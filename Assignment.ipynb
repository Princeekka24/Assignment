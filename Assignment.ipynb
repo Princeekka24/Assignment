{
 "cells": [
  {
   "cell_type": "markdown",
   "id": "71c22973",
   "metadata": {},
   "source": [
    "# 1) Explain the properties of the F-distribution \n",
    "\n",
    "The F-distribution is a probability distribution used in statistical tests to compare variances or evaluate multiple group means. Key properties include:\n",
    "\n",
    "Shape: It is asymmetric, skewed to the right, and becomes more symmetric as degrees of freedom increase.\n",
    "Parameters: It depends on two degrees of freedom (\n",
    "𝑑\n",
    "𝑓\n",
    "1\n",
    "df \n",
    "1\n",
    "​\n",
    "  for the numerator, \n",
    "𝑑\n",
    "𝑓\n",
    "2\n",
    "df \n",
    "2\n",
    "​\n",
    "  for the denominator).\n",
    "Range: Values are always positive, starting from 0 to \n",
    "∞\n",
    "∞.\n",
    "Application: Used in analysis of variance (ANOVA) and F-tests to test hypotheses involving ratios of variances.\n"
   ]
  },
  {
   "cell_type": "markdown",
   "id": "525eca30",
   "metadata": {},
   "source": [
    "# 2) In which types of statistical tests is the F-distribution used, and why is it appropriate for these tests?"
   ]
  },
  {
   "cell_type": "markdown",
   "id": "6bc0e8f8",
   "metadata": {},
   "source": [
    "The F-distribution is used in:\n",
    "\n",
    "ANOVA: To compare means of more than two groups by analyzing variance ratios.\n",
    "F-tests: To test if two population variances are equal.\n",
    "Regression Analysis: To test the significance of the overall model by comparing explained vs. unexplained variances.\n",
    "Appropriateness: The F-distribution models the ratio of variances, making it ideal for hypothesis testing in situations where variances or variance-based metrics are compared."
   ]
  },
  {
   "cell_type": "markdown",
   "id": "7db85803",
   "metadata": {},
   "source": [
    "# 3) What are the key assumptions required for conducting an F-test to compare the variances of two populations?\n",
    "\n",
    "Key assumptions include:\n",
    "\n",
    "Normality: Both populations should follow a normal distribution.\n",
    "Independence: The two samples must be independent of each other.\n",
    "Random Sampling: Data must be collected randomly.\n",
    "No Outliers: Outliers can heavily affect variance estimates and distort results.\n",
    "\n",
    "\n"
   ]
  },
  {
   "cell_type": "markdown",
   "id": "f8ce1924",
   "metadata": {},
   "source": [
    "# 4) What is the purpose of ANOVA, and how does it differ from a t-test?\n",
    "\n",
    "\n",
    "Purpose of ANOVA: ANOVA (Analysis of Variance) tests for statistically significant differences between means of three or more groups by comparing variances.\n",
    "\n",
    "Difference:\n",
    "\n",
    "T-test: Compares means of two groups.\n",
    "ANOVA: Compares means of three or more groups simultaneously, reducing Type I error compared to multiple t-tests.\n"
   ]
  },
  {
   "cell_type": "markdown",
   "id": "fa8f499d",
   "metadata": {},
   "source": [
    "# 5) Explain when and why you would use a one-way ANOVA instead of multiple t-tests when comparing more than two groups.\n",
    "\n",
    "A one-way ANOVA is used when comparing means of three or more groups with a single independent variable.\n",
    "\n",
    "Why not multiple t-tests?: Conducting multiple t-tests increases the risk of Type I error (false positives).\n",
    "Advantage of ANOVA: It evaluates all groups simultaneously, maintaining overall error rates and providing a single F-statistic.\n"
   ]
  },
  {
   "cell_type": "markdown",
   "id": "854f649f",
   "metadata": {},
   "source": [
    "# 6) Explain how variance is partitioned in ANOVA into between-group variance and within-group variance. How does this partitioning contribute to the calculation of the F-statistic? "
   ]
  },
  {
   "cell_type": "markdown",
   "id": "2f4d7c6b",
   "metadata": {},
   "source": [
    "ANOVA partitions total variance into:\n",
    "\n",
    "Between-group variance: Variance due to differences between group means (SSbetween) \n",
    "Within-group variance: Variance due to differences within each group (\n",
    "SSwithin ).\n",
    "F-statistic:\n",
    "\n",
    "𝐹\n",
    "= Between-group mean square (MS_between)/\n",
    "Within-group mean square (MS_within)\n",
    "\n",
    " \n",
    "Where:\n",
    " MSbetween= SSbetween/d fbetween\n",
    " MSwithin = SSwithin/d fwihtin\n",
    "larger F indicates greater differences between group means compared to within-group variability."
   ]
  },
  {
   "cell_type": "markdown",
   "id": "e81bfbc2",
   "metadata": {},
   "source": [
    "# 7) Compare the classical (frequentist) approach to ANOVA with the Bayesian approach. \n",
    "\n",
    "Frequentist ANOVA:\n",
    "\n",
    "Uses point estimates and p-values to reject or fail to reject the null hypothesis.\n",
    "Assumes fixed parameters.\n",
    "Provides no direct probability of the null hypothesis being true.\n",
    "Bayesian ANOVA:\n",
    "\n",
    "Incorporates prior beliefs and updates them using data to obtain posterior distributions.\n",
    "Provides a probabilistic estimate of parameters and hypotheses.\n",
    "Handles uncertainty better but is computationally intensive."
   ]
  },
  {
   "cell_type": "markdown",
   "id": "f596c9dd",
   "metadata": {},
   "source": [
    "# 8)  F-test for comparing variances of incomes between two professions (Python Implementation)"
   ]
  },
  {
   "cell_type": "code",
   "execution_count": 3,
   "id": "8886f4b4",
   "metadata": {},
   "outputs": [
    {
     "data": {
      "text/plain": [
       "(1.2992917285379597, 0.5970738235121262)"
      ]
     },
     "execution_count": 3,
     "metadata": {},
     "output_type": "execute_result"
    }
   ],
   "source": [
    "import scipy.stats as stats\n",
    "\n",
    "# Data\n",
    "profession_a = [48, 52, 55, 60, 62]\n",
    "profession_b = [45, 50, 55, 52, 47]\n",
    "\n",
    "# Variances\n",
    "var_a = stats.variation(profession_a)\n",
    "var_b = stats.variation(profession_b)\n",
    "\n",
    "# F-statistic\n",
    "f_stat = var_a / var_b\n",
    "\n",
    "# Degrees of freedom\n",
    "df1 = len(profession_a) - 1\n",
    "df2 = len(profession_b) - 1\n",
    "\n",
    "# P-value\n",
    "p_value = stats.f.cdf(f_stat, df1, df2)\n",
    "\n",
    "f_stat, p_value"
   ]
  },
  {
   "cell_type": "markdown",
   "id": "9398ae02",
   "metadata": {},
   "source": [
    "# 9. One-way ANOVA for comparing average heights of three regions (Python Implementation)"
   ]
  },
  {
   "cell_type": "markdown",
   "id": "451a2b66",
   "metadata": {},
   "source": [
    "Interpretation:\n",
    "\n",
    "If \n",
    "𝑝\n",
    "<\n",
    "0.05\n",
    "p<0.05, there is a significant difference in mean heights among regions.\n",
    "If \n",
    "𝑝\n",
    "≥\n",
    "0.05\n",
    "p≥0.05, there is no significant difference in mean heights."
   ]
  }
 ],
 "metadata": {
  "kernelspec": {
   "display_name": "Python 3 (ipykernel)",
   "language": "python",
   "name": "python3"
  },
  "language_info": {
   "codemirror_mode": {
    "name": "ipython",
    "version": 3
   },
   "file_extension": ".py",
   "mimetype": "text/x-python",
   "name": "python",
   "nbconvert_exporter": "python",
   "pygments_lexer": "ipython3",
   "version": "3.11.3"
  }
 },
 "nbformat": 4,
 "nbformat_minor": 5
}
